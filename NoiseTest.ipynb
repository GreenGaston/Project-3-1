{
 "cells": [
  {
   "cell_type": "code",
   "execution_count": 1,
   "metadata": {},
   "outputs": [
    {
     "name": "stdout",
     "output_type": "stream",
     "text": [
      "Jupyter environment detected. Enabling Open3D WebVisualizer.\n",
      "[Open3D INFO] WebRTC GUI backend enabled.\n",
      "[Open3D INFO] WebRTCWindowSystem: HTTP handshake server disabled.\n"
     ]
    }
   ],
   "source": [
    "from PCA import *\n",
    "from statistical_outlier_removal import *\n",
    "from noiseApplication import *\n",
    "from compareModels import *\n",
    "\n",
    "\n",
    "\n",
    "\n",
    "from sklearn import datasets\n",
    "import matplotlib.pyplot as plt\n",
    "import numpy as np\n",
    "import open3d as o3d\n"
   ]
  },
  {
   "cell_type": "code",
   "execution_count": 2,
   "metadata": {},
   "outputs": [],
   "source": [
    "##open xyzrgb_dragon.ply mesh\n",
    "pcd = o3d.io.read_point_cloud(\"xyzrgb_dragon.ply\")\n"
   ]
  },
  {
   "cell_type": "code",
   "execution_count": 3,
   "metadata": {},
   "outputs": [],
   "source": [
    "\n",
    "\n",
    "def hausdorff_distance(pcd1, pcd2):\n",
    "    points1 = np.asarray(pcd1.points)\n",
    "    points2 = np.asarray(pcd2.points)\n",
    "\n",
    "    tree1 = cKDTree(points1)\n",
    "    tree2 = cKDTree(points2)\n",
    "\n",
    "    distances1, _ = tree1.query(points2, k=1)\n",
    "    distances2, _ = tree2.query(points1, k=1)\n",
    "\n",
    "    hausdorff_dist = max(np.max(distances1), np.max(distances2))\n",
    "    return hausdorff_dist\n",
    "\n",
    "def chamfer_distance(pcd1, pcd2):\n",
    "    points1 = np.asarray(pcd1.points)\n",
    "    points2 = np.asarray(pcd2.points)\n",
    "\n",
    "    tree1 = cKDTree(points1)\n",
    "    tree2 = cKDTree(points2)\n",
    "\n",
    "    distances1, _ = tree1.query(points2, k=1)\n",
    "    distances2, _ = tree2.query(points1, k=1)\n",
    "\n",
    "    chamfer_dist = np.mean(distances1) + np.mean(distances2)\n",
    "    return chamfer_dist\n",
    "\n",
    "def compare_models(pca1, pca2):\n",
    "    \n",
    "\n",
    "    comparison_metrics = {\n",
    "        'hausdorff_distance': hausdorff_distance(pca1, pca2),\n",
    "        'chamfer_distance': chamfer_distance(pca1, pca2)\n",
    "    }\n",
    "    return comparison_metrics"
   ]
  },
  {
   "cell_type": "code",
   "execution_count": 8,
   "metadata": {},
   "outputs": [],
   "source": [
    "#we have 3 kinds of noise\n",
    "#1. salt and pepper noise\n",
    "#2. random noise\n",
    "#3. Scanner noise\n",
    "# we will test out each effect sepperatly, then apply our denoising methods to remove the noise\n",
    "# and compare the results to see which method performs best on each type of noise\n",
    "\n",
    "# variables\n",
    "saltnoise=1\n",
    "randomnoise=1\n",
    "scannernoise=0.3\n",
    "scannerThreshold = 1\n",
    "\n",
    "\n",
    "#1. salt and pepper noise\n",
    "salt_noise_mesh = salt_and_pepper_noise(pcd, saltnoise)\n",
    "#2. random noise\n",
    "random_noise_mesh= apply_random_noise(pcd, randomnoise)\n",
    "#3. scanner noise\n",
    "scanner_noise_mesh = simulate_scanning_error(pcd, distance_threshold=scannerThreshold,noise_level=scannernoise)\n",
    "#combination of all 3\n",
    "all_noise_mesh = apply_random_noise(scanner_noise_mesh, randomnoise)\n",
    "all_noise_mesh = salt_and_pepper_noise(all_noise_mesh, saltnoise)\n",
    "all_noise_mesh = simulate_scanning_error(all_noise_mesh, distance_threshold=scannerThreshold,noise_level=scannernoise)\n",
    "\n",
    "\n"
   ]
  },
  {
   "cell_type": "code",
   "execution_count": 9,
   "metadata": {},
   "outputs": [
    {
     "name": "stdout",
     "output_type": "stream",
     "text": [
      "Salt and pepper noise\n",
      "{'hausdorff_distance': 1.6875634910790187, 'chamfer_distance': 0.6131885283731144}\n",
      "Random noise\n",
      "{'hausdorff_distance': 1.6880768951360006, 'chamfer_distance': 0.6131602953628529}\n",
      "Scanner noise\n",
      "{'hausdorff_distance': 4.753546744926373, 'chamfer_distance': 0.02951600153796625}\n",
      "All noise\n",
      "{'hausdorff_distance': 5.906750758424517, 'chamfer_distance': 0.8069311760580873}\n"
     ]
    }
   ],
   "source": [
    "#we need to evaluate the noisy mesh as well\n",
    "salt_noise_metrics=compare_models(pcd, salt_noise_mesh)\n",
    "random_noise_metrics=compare_models(pcd, random_noise_mesh)\n",
    "scanner_noise_metrics=compare_models(pcd, scanner_noise_mesh)\n",
    "\n",
    "all_noise_metrics=compare_models(pcd, all_noise_mesh)\n",
    "\n",
    "\n",
    "#also print the default noisy mesh\n",
    "print(\"Salt and pepper noise\")\n",
    "print(salt_noise_metrics)\n",
    "print(\"Random noise\")\n",
    "print(random_noise_metrics)\n",
    "print(\"Scanner noise\")\n",
    "print(scanner_noise_metrics)\n",
    "print(\"All noise\")\n",
    "print(all_noise_metrics)"
   ]
  },
  {
   "cell_type": "code",
   "execution_count": 10,
   "metadata": {},
   "outputs": [
    {
     "name": "stdout",
     "output_type": "stream",
     "text": [
      "Applying Statistical Outlier Removal...\n",
      "Estimating normals...\n",
      "Computing normal deviations...\n",
      "Applying Statistical Outlier Removal...\n",
      "Estimating normals...\n",
      "Computing normal deviations...\n",
      "Applying Statistical Outlier Removal...\n",
      "Estimating normals...\n",
      "Computing normal deviations...\n",
      "Applying Statistical Outlier Removal...\n",
      "Estimating normals...\n",
      "Computing normal deviations...\n",
      "Applying Statistical Outlier Removal...\n",
      "Estimating normals...\n",
      "Computing normal deviations...\n"
     ]
    }
   ],
   "source": [
    "#now we apply the different denoising methods individually to each type of noise\n",
    "#1. salt and pepper noise\n",
    "salt_noise_PCA = pca_denoising(salt_noise_mesh)\n",
    "salt_noise_SOR = apply_statistical_outlier_removal(salt_noise_mesh)\n",
    "salt_noise_NDOR = apply_normal_deviation_removal(salt_noise_mesh)\n",
    "#2. random noise\n",
    "random_noise_PCA = pca_denoising(random_noise_mesh)\n",
    "random_noise_SOR = apply_statistical_outlier_removal(random_noise_mesh)\n",
    "random_noise_NDOR = apply_normal_deviation_removal(random_noise_mesh)\n",
    "#3. scanner noise\n",
    "scanner_noise_PCA = pca_denoising(scanner_noise_mesh)\n",
    "scanner_noise_SOR = apply_statistical_outlier_removal(scanner_noise_mesh)\n",
    "scanner_noise_NDOR = apply_normal_deviation_removal(scanner_noise_mesh)\n",
    "#combination of all 3\n",
    "all_noise_PCA = pca_denoising(all_noise_mesh)\n",
    "all_noise_SOR = apply_statistical_outlier_removal(all_noise_mesh)\n",
    "all_noise_NDOR = apply_normal_deviation_removal(all_noise_mesh)\n",
    "\n",
    "#1 with all denoiser applied\n",
    "all_noise_all_denosiers = pca_denoising(all_noise_mesh)\n",
    "all_noise_all_denosiers = apply_statistical_outlier_removal(all_noise_all_denosiers)\n",
    "all_noise_all_denosiers = apply_normal_deviation_removal(all_noise_all_denosiers)\n"
   ]
  },
  {
   "cell_type": "code",
   "execution_count": 12,
   "metadata": {},
   "outputs": [],
   "source": [
    "#now we want to compare the models to eachother and see which denoising method performs best on each type of noise\n",
    "salt_noise_PCA_metrics=compare_models(pcd, salt_noise_PCA)\n",
    "salt_noise_SOR_metrics=compare_models(pcd, salt_noise_SOR)\n",
    "salt_noise_NDOR_metrics=compare_models(pcd, salt_noise_NDOR)\n",
    "\n",
    "random_noise_PCA_metrics=compare_models(pcd, random_noise_PCA)\n",
    "random_noise_SOR_metrics=compare_models(pcd, random_noise_SOR)\n",
    "random_noise_NDOR_metrics=compare_models(pcd, random_noise_NDOR)\n",
    "\n",
    "scanner_noise_PCA_metrics=compare_models(pcd, scanner_noise_PCA)\n",
    "scanner_noise_SOR_metrics=compare_models(pcd, scanner_noise_SOR)\n",
    "scanner_noise_NDOR_metrics=compare_models(pcd, scanner_noise_NDOR)\n",
    "\n",
    "all_noise_PCA_metrics=compare_models(pcd, all_noise_PCA)\n",
    "all_noise_SOR_metrics=compare_models(pcd, all_noise_SOR)\n",
    "all_noise_NDOR_metrics=compare_models(pcd, all_noise_NDOR)\n",
    "\n",
    "all_noise_all_denosiers_metrics=compare_models(pcd, all_noise_all_denosiers)\n",
    "\n",
    "\n"
   ]
  },
  {
   "cell_type": "code",
   "execution_count": 13,
   "metadata": {},
   "outputs": [
    {
     "name": "stdout",
     "output_type": "stream",
     "text": [
      "Salt and pepper noise\n",
      "PCA\n",
      "{'hausdorff_distance': 1.6875634910790187, 'chamfer_distance': 0.7566772778391958}\n",
      "SOR\n",
      "{'hausdorff_distance': 28.4546063454545, 'chamfer_distance': 0.5851578257787091}\n",
      "NDOR\n",
      "{'hausdorff_distance': 1.6875634910790187, 'chamfer_distance': 0.639523118417348}\n",
      "Random noise\n",
      "PCA\n",
      "{'hausdorff_distance': 1.6880768951360006, 'chamfer_distance': 0.7566237312747687}\n",
      "SOR\n",
      "{'hausdorff_distance': 28.438967305432016, 'chamfer_distance': 0.5851053253843647}\n",
      "NDOR\n",
      "{'hausdorff_distance': 1.6880768951360006, 'chamfer_distance': 0.6400940042519235}\n",
      "Scanner noise\n",
      "PCA\n",
      "{'hausdorff_distance': 69.06686247195495, 'chamfer_distance': 23.394274464998364}\n",
      "SOR\n",
      "{'hausdorff_distance': 29.380674565168846, 'chamfer_distance': 0.01736558926657847}\n",
      "NDOR\n",
      "{'hausdorff_distance': 4.753546744926373, 'chamfer_distance': 0.16814669048762432}\n",
      "All noise\n",
      "PCA\n",
      "{'hausdorff_distance': 5.906750758424517, 'chamfer_distance': 0.9615110945506762}\n",
      "SOR\n",
      "{'hausdorff_distance': 27.78820171513201, 'chamfer_distance': 0.7555071081745169}\n",
      "NDOR\n",
      "{'hausdorff_distance': 5.906750758424517, 'chamfer_distance': 0.8301477222488102}\n",
      "All denosiers\n",
      "{'hausdorff_distance': 27.916170390151738, 'chamfer_distance': 0.9126391856615352}\n"
     ]
    }
   ],
   "source": [
    "#now we want to plot the results\n",
    "#1. salt and pepper noise\n",
    "print(\"Salt and pepper noise\")\n",
    "print(\"PCA\")\n",
    "print(salt_noise_PCA_metrics)\n",
    "print(\"SOR\")\n",
    "print(salt_noise_SOR_metrics)\n",
    "print(\"NDOR\")\n",
    "print(salt_noise_NDOR_metrics)\n",
    "\n",
    "#2. random noise\n",
    "print(\"Random noise\")\n",
    "print(\"PCA\")\n",
    "print(random_noise_PCA_metrics)\n",
    "print(\"SOR\")\n",
    "print(random_noise_SOR_metrics)\n",
    "print(\"NDOR\")\n",
    "print(random_noise_NDOR_metrics)\n",
    "\n",
    "#3. scanner noise\n",
    "print(\"Scanner noise\")\n",
    "print(\"PCA\")\n",
    "print(scanner_noise_PCA_metrics)\n",
    "print(\"SOR\")\n",
    "print(scanner_noise_SOR_metrics)\n",
    "print(\"NDOR\")\n",
    "print(scanner_noise_NDOR_metrics)\n",
    "\n",
    "#combination of all 3\n",
    "print(\"All noise\")\n",
    "print(\"PCA\")\n",
    "print(all_noise_PCA_metrics)\n",
    "print(\"SOR\")\n",
    "print(all_noise_SOR_metrics)\n",
    "print(\"NDOR\")\n",
    "print(all_noise_NDOR_metrics)\n",
    "print(\"All denosiers\")\n",
    "print(all_noise_all_denosiers_metrics)\n",
    "\n"
   ]
  },
  {
   "cell_type": "code",
   "execution_count": 14,
   "metadata": {},
   "outputs": [
    {
     "name": "stdout",
     "output_type": "stream",
     "text": [
      "Salt and pepper noise\n",
      "{'hausdorff_distance': 1.6875634910790187, 'chamfer_distance': 0.6131885283731144}\n",
      "Random noise\n",
      "{'hausdorff_distance': 1.6880768951360006, 'chamfer_distance': 0.6131602953628529}\n",
      "Scanner noise\n",
      "{'hausdorff_distance': 4.753546744926373, 'chamfer_distance': 0.02951600153796625}\n",
      "All noise\n",
      "{'hausdorff_distance': 5.906750758424517, 'chamfer_distance': 0.8069311760580873}\n"
     ]
    }
   ],
   "source": [
    "#also print the default noisy mesh\n",
    "print(\"Salt and pepper noise\")\n",
    "print(salt_noise_metrics)\n",
    "print(\"Random noise\")\n",
    "print(random_noise_metrics)\n",
    "print(\"Scanner noise\")\n",
    "print(scanner_noise_metrics)\n",
    "print(\"All noise\")\n",
    "print(all_noise_metrics)"
   ]
  },
  {
   "cell_type": "code",
   "execution_count": 15,
   "metadata": {},
   "outputs": [],
   "source": [
    "#now we want know know which denoising method performs best on each type of noise\n",
    "#difference is a list of measuremenst: [hausdorff, chamfer, surface area difference]\n",
    "# comparison_metrics = {\n",
    "#         'hausdorff_distance': hausdorff_distance(mesh1, mesh2),\n",
    "#         'chamfer_distance': chamfer_distance(mesh1, mesh2),\n",
    "#         'surface_area_difference': surface_area_difference(mesh1, mesh2),\n",
    "#         'volume_overlap': volume_overlap(mesh1, mesh2)\n",
    "#     }\n",
    "# volume_overlap is not used in this comparison because the models are not watertight\n",
    "\n",
    "#we want to see which denoising has the lowest combined number of these 3 metrics\n",
    "#1. salt and pepper noise\n",
    "salt_noises_PCA_combined = sum(salt_noise_PCA_metrics.values())\n",
    "salt_noises_SOR_combined = sum(salt_noise_SOR_metrics.values())\n",
    "salt_noises_NDOR_combined = sum(salt_noise_NDOR_metrics.values())\n",
    "\n",
    "#2. random noise\n",
    "random_noises_PCA_combined = sum(random_noise_PCA_metrics.values())\n",
    "random_noises_SOR_combined = sum(random_noise_SOR_metrics.values())\n",
    "random_noises_NDOR_combined = sum(random_noise_NDOR_metrics.values())\n",
    "\n",
    "#3. scanner noise\n",
    "scanner_noises_PCA_combined = sum(scanner_noise_PCA_metrics.values())\n",
    "scanner_noises_SOR_combined = sum(scanner_noise_SOR_metrics.values())\n",
    "scanner_noises_NDOR_combined = sum(scanner_noise_NDOR_metrics.values())\n",
    "\n",
    "#combination of all 3\n",
    "all_noises_PCA_combined = sum(all_noise_PCA_metrics.values())\n",
    "all_noises_SOR_combined = sum(all_noise_SOR_metrics.values())\n",
    "all_noises_NDOR_combined = sum(all_noise_NDOR_metrics.values())\n",
    "\n",
    "all_noises_all_denosiers_combined = sum(all_noise_all_denosiers_metrics.values())\n",
    "\n",
    "\n",
    "\n"
   ]
  },
  {
   "cell_type": "code",
   "execution_count": 16,
   "metadata": {},
   "outputs": [
    {
     "name": "stdout",
     "output_type": "stream",
     "text": [
      "Random noise: NDOR performs best\n",
      "Scanner noise: NDOR performs best\n",
      "All noise: NDOR performs best\n"
     ]
    }
   ],
   "source": [
    "# if(salt_noise_PCA_combined<salt_noise_SOR_combined and salt_noise_PCA_combined<salt_noise_NDOR_combined):\n",
    "#     print(\"Salt and pepper noise: PCA performs best\")\n",
    "# elif(salt_noise_SOR_combined<salt_noise_PCA_combined and salt_noise_SOR_combined<salt_noise_NDOR_combined):\n",
    "#     print(\"Salt and pepper noise: SOR performs best\")\n",
    "# else:\n",
    "#     print(\"Salt and pepper noise: NDOR performs best\")\n",
    "    \n",
    "if(random_noises_PCA_combined<random_noises_SOR_combined and random_noises_PCA_combined<random_noises_NDOR_combined):\n",
    "    print(\"Random noise: PCA performs best\")\n",
    "elif(random_noises_SOR_combined<random_noises_PCA_combined and random_noises_SOR_combined<random_noises_NDOR_combined):\n",
    "    print(\"Random noise: SOR performs best\")\n",
    "else:\n",
    "    print(\"Random noise: NDOR performs best\")\n",
    "\n",
    "if(scanner_noises_PCA_combined<scanner_noises_SOR_combined and scanner_noises_PCA_combined<scanner_noises_NDOR_combined):\n",
    "    print(\"Scanner noise: PCA performs best\")\n",
    "elif(scanner_noises_SOR_combined<scanner_noises_PCA_combined and scanner_noises_SOR_combined<scanner_noises_NDOR_combined):\n",
    "    print(\"Scanner noise: SOR performs best\")\n",
    "else:\n",
    "    print(\"Scanner noise: NDOR performs best\")\n",
    "\n",
    "if(all_noises_PCA_combined<all_noises_SOR_combined and all_noises_PCA_combined<all_noises_NDOR_combined):\n",
    "    print(\"All noise: PCA performs best\")\n",
    "elif(all_noises_SOR_combined<all_noises_PCA_combined and all_noises_SOR_combined<all_noises_NDOR_combined):\n",
    "    print(\"All noise: SOR performs best\")\n",
    "else:\n",
    "    print(\"All noise: NDOR performs best\")\n",
    "\n"
   ]
  }
 ],
 "metadata": {
  "kernelspec": {
   "display_name": "Python 3",
   "language": "python",
   "name": "python3"
  },
  "language_info": {
   "codemirror_mode": {
    "name": "ipython",
    "version": 3
   },
   "file_extension": ".py",
   "mimetype": "text/x-python",
   "name": "python",
   "nbconvert_exporter": "python",
   "pygments_lexer": "ipython3",
   "version": "3.10.2"
  }
 },
 "nbformat": 4,
 "nbformat_minor": 2
}
